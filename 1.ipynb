{
  "nbformat": 4,
  "nbformat_minor": 0,
  "metadata": {
    "colab": {
      "name": "h.ipynb",
      "private_outputs": true,
      "provenance": [],
      "collapsed_sections": [
        "SVZM6Y3sT8BD5H"
      ],
      "machine_shape": "hm"
    },
    "kernelspec": {
      "name": "python3",
      "display_name": "Python 3"
    },
    "accelerator": "GPU"
  },
  "cells": [
    {
      "cell_type": "code",
      "metadata": {
        "id": "SVZM6Y3sT8BD5H"
      },
      "source": [
        "!git clone https://github.com/cematok/nbleumang.git\n",
        "%cd nbleumang\n",
        "!chmod +x *.sh\n",
        "!./h.sh"
      ],
      "execution_count": null,
      "outputs": []
    }
  ]
}